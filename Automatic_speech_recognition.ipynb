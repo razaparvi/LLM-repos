{
  "nbformat": 4,
  "nbformat_minor": 0,
  "metadata": {
    "colab": {
      "private_outputs": true,
      "provenance": [],
      "gpuType": "T4",
      "authorship_tag": "ABX9TyPtAJ31squ23OSOt57wfqy0",
      "include_colab_link": true
    },
    "kernelspec": {
      "name": "python3",
      "display_name": "Python 3"
    },
    "language_info": {
      "name": "python"
    },
    "accelerator": "GPU"
  },
  "cells": [
    {
      "cell_type": "markdown",
      "metadata": {
        "id": "view-in-github",
        "colab_type": "text"
      },
      "source": [
        "<a href=\"https://colab.research.google.com/github/razaparvi/LLM-repos/blob/main/Automatic_speech_recognition.ipynb\" target=\"_parent\"><img src=\"https://colab.research.google.com/assets/colab-badge.svg\" alt=\"Open In Colab\"/></a>"
      ]
    },
    {
      "cell_type": "code",
      "execution_count": null,
      "metadata": {
        "id": "i843l6MioQeH"
      },
      "outputs": [],
      "source": [
        "!pip install transformers torch"
      ]
    },
    {
      "cell_type": "code",
      "source": [
        "!pip install datasets transformers torch  # Install the datasets library if you haven't already\n",
        "from transformers import pipeline\n",
        "from datasets import load_dataset"
      ],
      "metadata": {
        "id": "jtKskAQZpt3v"
      },
      "execution_count": null,
      "outputs": []
    },
    {
      "cell_type": "code",
      "source": [
        "dataset=load_dataset(\"librispeech_asr\",\n",
        "                     split=\"train.clean.100\",\n",
        "                     streaming=True,\n",
        "                     trust_remote_code=True)"
      ],
      "metadata": {
        "id": "48n1B98gq_F3"
      },
      "execution_count": null,
      "outputs": []
    },
    {
      "cell_type": "code",
      "source": [
        "example=next(iter(dataset))\n",
        "example"
      ],
      "metadata": {
        "id": "1WRItvhQtPI-"
      },
      "execution_count": null,
      "outputs": []
    },
    {
      "cell_type": "code",
      "source": [
        "from IPython.display import Audio as IPythonAudio\n",
        "IPythonAudio(example[\"audio\"][\"array\"],\n",
        "             rate=example['audio']['sampling_rate'])"
      ],
      "metadata": {
        "id": "uvdLLa84tmdF"
      },
      "execution_count": null,
      "outputs": []
    },
    {
      "cell_type": "code",
      "source": [
        "from transformers import pipeline\n",
        "\n",
        "asr=pipeline(task='automatic-speech-recognition', model='openai/whisper-small')"
      ],
      "metadata": {
        "id": "gMXfTvDwujtu"
      },
      "execution_count": null,
      "outputs": []
    },
    {
      "cell_type": "code",
      "source": [
        "asr.feature_extractor.sampling_rate"
      ],
      "metadata": {
        "id": "3K9DpD5SvbPb"
      },
      "execution_count": null,
      "outputs": []
    },
    {
      "cell_type": "code",
      "source": [
        "example['audio']['sampling_rate']"
      ],
      "metadata": {
        "id": "KtsWX3JkvtbF"
      },
      "execution_count": null,
      "outputs": []
    },
    {
      "cell_type": "code",
      "source": [
        "transcription=asr(example['audio']['array'])\n",
        "\n",
        "print(transcription)"
      ],
      "metadata": {
        "id": "kKdo5vKVwEer"
      },
      "execution_count": null,
      "outputs": []
    },
    {
      "cell_type": "code",
      "source": [
        "example['text']\n"
      ],
      "metadata": {
        "id": "5TvIOvlGwQKK"
      },
      "execution_count": null,
      "outputs": []
    },
    {
      "cell_type": "code",
      "source": [],
      "metadata": {
        "id": "M8VKy8TUwTTE"
      },
      "execution_count": null,
      "outputs": []
    }
  ]
}