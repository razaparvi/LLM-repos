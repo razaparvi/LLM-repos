{
  "nbformat": 4,
  "nbformat_minor": 0,
  "metadata": {
    "colab": {
      "private_outputs": true,
      "provenance": [],
      "gpuType": "T4",
      "authorship_tag": "ABX9TyP94wCs0sS+OOTG+eABiM9I",
      "include_colab_link": true
    },
    "kernelspec": {
      "name": "python3",
      "display_name": "Python 3"
    },
    "language_info": {
      "name": "python"
    },
    "accelerator": "GPU"
  },
  "cells": [
    {
      "cell_type": "markdown",
      "metadata": {
        "id": "view-in-github",
        "colab_type": "text"
      },
      "source": [
        "<a href=\"https://colab.research.google.com/github/razaparvi/LLM-repos/blob/main/thousand_splendid_sun_.ipynb\" target=\"_parent\"><img src=\"https://colab.research.google.com/assets/colab-badge.svg\" alt=\"Open In Colab\"/></a>"
      ]
    },
    {
      "cell_type": "code",
      "execution_count": null,
      "metadata": {
        "id": "zUWLVN_WXGxE"
      },
      "outputs": [],
      "source": [
        "!pip -q install langchain openai tiktoken qdrant-client langchain_openai  pypdf langchainhub  langchain_community langchain-groq"
      ]
    },
    {
      "cell_type": "code",
      "source": [
        "!pip -q install langchain openai tiktoken qdrant-client langchain_openai  pypdf langchainhub  langchain_community langchain-groq langchain-huggingface"
      ],
      "metadata": {
        "id": "Y7kk0mmAimKs"
      },
      "execution_count": null,
      "outputs": []
    },
    {
      "cell_type": "code",
      "source": [
        " !pip command again.\n",
        ""
      ],
      "metadata": {
        "id": "w6waMXXbciFZ"
      },
      "execution_count": null,
      "outputs": []
    },
    {
      "cell_type": "code",
      "source": [
        "from langchain_groq import ChatGroq\n",
        "from langchain import hub\n",
        "import tiktoken\n",
        "from langchain_community.vectorstores import Qdrant\n",
        "from qdrant_client import QdrantClient\n",
        "from google.colab import userdata\n",
        "from qdrant_client import QdrantClient\n",
        "from langchain_openai import OpenAIEmbeddings\n",
        "from langchain_openai import ChatOpenAI\n",
        "from langchain.text_splitter import RecursiveCharacterTextSplitter\n",
        "from langchain.llms import OpenAI\n",
        "from langchain.document_loaders import  PyPDFLoader\n",
        "from langchain.document_loaders import DirectoryLoader\n",
        "from langchain_core.output_parsers import StrOutputParser\n",
        "from langchain_core.runnables import RunnablePassthrough\n",
        "from langchain.prompts import PromptTemplate"
      ],
      "metadata": {
        "id": "y7XP-5Q8ao2u"
      },
      "execution_count": null,
      "outputs": []
    },
    {
      "cell_type": "code",
      "source": [
        "qdrant_url=userdata.get('QUADRANT_URL')\n",
        "qdrant_api_key=userdata.get('Qdrant_API_key')\n",
        "#openai_api_key=userdata.get('OPENAI_API_KEY')\n",
        "groq_api_key=userdata.get('GROQ_API_key')"
      ],
      "metadata": {
        "id": "crNLncirc1Q3"
      },
      "execution_count": null,
      "outputs": []
    },
    {
      "cell_type": "code",
      "source": [
        "from langchain_community.document_loaders import PyPDFLoader"
      ],
      "metadata": {
        "id": "Gpky01-Afu7G"
      },
      "execution_count": null,
      "outputs": []
    },
    {
      "cell_type": "code",
      "source": [
        "loader=PyPDFLoader(\"/content/a_thousand_splendid_sun.pdf\")\n",
        "documents=loader.load()"
      ],
      "metadata": {
        "id": "QdhUmdAVeud7"
      },
      "execution_count": null,
      "outputs": []
    },
    {
      "cell_type": "code",
      "source": [
        "documents[:5]"
      ],
      "metadata": {
        "id": "Qg6nUcfzgBX0"
      },
      "execution_count": null,
      "outputs": []
    },
    {
      "cell_type": "code",
      "source": [
        "len(documents)"
      ],
      "metadata": {
        "id": "5k-s-Y9bgmAU"
      },
      "execution_count": null,
      "outputs": []
    },
    {
      "cell_type": "code",
      "source": [
        "text_splitter=RecursiveCharacterTextSplitter(chunk_size=2500,chunk_overlap=300)\n",
        "texts=text_splitter.split_documents(documents)"
      ],
      "metadata": {
        "id": "b-P-85NkgyI2"
      },
      "execution_count": null,
      "outputs": []
    },
    {
      "cell_type": "code",
      "source": [
        "len(texts)"
      ],
      "metadata": {
        "id": "HndqC7AihOyb"
      },
      "execution_count": null,
      "outputs": []
    },
    {
      "cell_type": "code",
      "source": [
        "from langchain_huggingface import HuggingFaceEmbeddings\n",
        "embeddings = HuggingFaceEmbeddings(model_name=\"all-MiniLM-L6-v2\")"
      ],
      "metadata": {
        "id": "QSn4TqEDhUwl"
      },
      "execution_count": null,
      "outputs": []
    },
    {
      "cell_type": "code",
      "source": [
        "qdrant=Qdrant.from_documents(\n",
        "    texts,\n",
        "    embedding=embeddings,\n",
        "    url=qdrant_url,\n",
        "    api_key=qdrant_api_key,\n",
        "    prefer_grpc=True,\n",
        "    collection_name=\"test_collection\",\n",
        "\n",
        ")"
      ],
      "metadata": {
        "id": "TQrlYTwmmOI1"
      },
      "execution_count": null,
      "outputs": []
    },
    {
      "cell_type": "code",
      "source": [
        "qdrant_client = QdrantClient(url=qdrant_url, api_key=qdrant_api_key)"
      ],
      "metadata": {
        "id": "MGB_NAxFpG_a"
      },
      "execution_count": null,
      "outputs": []
    },
    {
      "cell_type": "code",
      "source": [
        "qdrant_client=QdrantClient(\n",
        "    url=qdrant_url,api_key=qdrant_api_key\n",
        ")"
      ],
      "metadata": {
        "id": "i2Rmqa-xpSNh"
      },
      "execution_count": null,
      "outputs": []
    },
    {
      "cell_type": "code",
      "source": [
        "retriever=qdrant.as_retriever(search_kwargs={\"k\": 5})"
      ],
      "metadata": {
        "id": "3OxO8sOArGgp"
      },
      "execution_count": null,
      "outputs": []
    },
    {
      "cell_type": "code",
      "source": [
        "retriever=qdrant.as_retriever(search_kwargs={\"k\": 5})\n",
        "\n",
        "query = \"Who was Marium?\"\n",
        "docs=retriever.get_relevant_documents(query)\n",
        "\n",
        "#for better print of the docs\n",
        "def pretty_print_docs(docs):\n",
        "    print(\n",
        "        f\"\\n{'-' * 100}\\n\".join(\n",
        "            [f\"Document {i+1}:\\n\\n\" + d.page_content for i, d in enumerate(docs)]\n",
        "        )\n",
        "    )\n",
        "\n",
        "\n",
        "docs\n",
        "\n",
        "pretty_print_docs(docs)"
      ],
      "metadata": {
        "id": "uDXLq6ZurS4F"
      },
      "execution_count": null,
      "outputs": []
    },
    {
      "cell_type": "code",
      "source": [
        "retriever=qdrant.as_retriever(search_kwargs={\"k\": 10})\n",
        "\n",
        "prompt=PromptTemplate(\n",
        "\n",
        "template=\"\"\"\n",
        "# Your role\n",
        "You are a brilliant expert at understanding the intent of the questioner and the crux of the question, and providing the most optimal answer  from the docs to the questioner's needs from the documents you are given.\n",
        "\n",
        "\n",
        "# Instruction\n",
        "Your task is to answer the question  using the following pieces of retrieved context delimited by XML tags.\n",
        "\n",
        "<retrieved context>\n",
        "Retrieved Context:\n",
        "{context}\n",
        "</retrieved context>\n",
        "\n",
        "\n",
        "# Constraint\n",
        "1. Think deeply and multiple times about the user's question\\nUser's question:\\n{question}\\nYou must understand the intent of their question and provide the most appropriate answer.\n",
        "- Ask yourself why to understand the context of the question and why the questioner asked it, reflect on it, and provide an appropriate response based on what you understand.\n",
        "2. Choose the most relevant content(the key content that directly relates to the question) from the retrieved context and use it to generate an answer.\n",
        "3. Generate a concise, logical answer. When generating the answer, Do Not just list your selections, But rearrange them in context so that they become paragraphs with a natural flow.\n",
        "4. When you don't have retrieved context for the question or If you have a retrieved documents, but their content is irrelevant to the question, you should answer 'I can't find the answer to that question in the material I have'.\n",
        "5. Use five sentences maximum. Keep the answer concise but logical/natural/in-depth.\n",
        "6. At the end of the response provide metadata provided in the relevant docs , For example:\"Metadata: page: 19, source: /content/OCR_RSCA/Analyse docs JVB + mails et convention FOOT INNOVATION.pdf'. Return Just the page and source\n",
        "\n",
        "\n",
        "# Question:\n",
        "{question}\"\"\",\n",
        "    input_variables=[\"context\",\"question\"]\n",
        ")\n",
        "llm = ChatOpenAI(model_name=\"gpt-4o-mini\", temperature=0,openai_api_key=openai_api_key)\n",
        "groq_llm= ChatGroq(\n",
        "    model=\"llma-3.1-70b-versatile\",\n",
        "    temperature=0,\n",
        "    groq_api_key=groq_api_key\n",
        "    max_retries=2,\n",
        ")\n",
        "\n",
        "\n",
        "def format_docs(docs):\n",
        "    formatted_docs = []\n",
        "    for doc in docs:\n",
        "        # Format the metadata into a string\n",
        "        metadata_str = ', '.join(f\"{key}: {value}\" for key, value in doc.metadata.items())\n",
        "\n",
        "        # Combine page content with its metadata\n",
        "        doc_str = f\"{doc.page_content}\\nMetadata: {metadata_str}\"\n",
        "\n",
        "        # Append to the list of formatted documents\n",
        "        formatted_docs.append(doc_str)\n",
        "\n",
        "    # Join all formatted documents with double newlines\n",
        "    return \"\\n\\n\".join(formatted_docs)\n",
        "\n",
        "\n",
        "rag_chain = (\n",
        "    {\"context\": retriever | format_docs, \"question\": RunnablePassthrough()}\n",
        "    | prompt\n",
        "    | llm\n",
        "    | StrOutputParser()\n",
        ")"
      ],
      "metadata": {
        "id": "ycMvB0ZvxSUJ"
      },
      "execution_count": null,
      "outputs": []
    }
  ]
}